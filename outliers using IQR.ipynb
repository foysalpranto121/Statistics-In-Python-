{
 "cells": [
  {
   "cell_type": "markdown",
   "id": "f2fa8eb0",
   "metadata": {},
   "source": [
    " ## Finding outliers using IQR\n",
    "Outliers can have big effects on statistics like mean, as well as statistics that rely on the mean, such as variance and standard deviation. Interquartile range, or IQR, is another way of measuring spread that's less influenced by outliers. IQR is also often used to find outliers. If a value is less than \n",
    " or greater than \n",
    ", it's considered an outlier. In fact, this is how the lengths of the whiskers in a matplotlib box plot are calculated."
   ]
  },
  {
   "cell_type": "markdown",
   "id": "0a5f3622",
   "metadata": {},
   "source": [
    "Calculate the total co2_emission per country by grouping by country and taking the sum of co2_emission. Store the resulting DataFrame as emissions_by_country."
   ]
  },
  {
   "cell_type": "code",
   "execution_count": 1,
   "id": "efe6bbe2",
   "metadata": {},
   "outputs": [
    {
     "name": "stdout",
     "output_type": "stream",
     "text": [
      "country\n",
      "Albania      1777.85\n",
      "Algeria       707.88\n",
      "Angola        412.99\n",
      "Argentina    2172.40\n",
      "Armenia      1109.93\n",
      "              ...   \n",
      "Uruguay      1634.91\n",
      "Venezuela    1104.10\n",
      "Vietnam       641.51\n",
      "Zambia        225.30\n",
      "Zimbabwe      350.33\n",
      "Name: co2_emission, Length: 130, dtype: float64\n"
     ]
    }
   ],
   "source": [
    "import numpy as np\n",
    "import pandas as pd\n",
    "\n",
    "# Load dataset\n",
    "food_consumption = pd.read_csv(\n",
    "    'https://assets.datacamp.com/production/repositories/5786/datasets/49f6356966016c70a9f63a0474942675377bdcf2/food_consumption.csv',\n",
    "    encoding='latin1'\n",
    ")\n",
    "\n",
    "# Example of using groupby and sum\n",
    "emissions_by_country = food_consumption.groupby('country')['co2_emission'].sum()\n",
    "\n",
    "# Print the result\n",
    "print(emissions_by_country)\n"
   ]
  },
  {
   "cell_type": "markdown",
   "id": "6c909a18",
   "metadata": {},
   "source": [
    "Compute the first and third quartiles of emissions_by_country and store these as q1 and q3.\n",
    "Calculate the interquartile range of emissions_by_country and store it as iqr."
   ]
  },
  {
   "cell_type": "code",
   "execution_count": 2,
   "id": "735d9a99",
   "metadata": {},
   "outputs": [
    {
     "name": "stdout",
     "output_type": "stream",
     "text": [
      "Q1 (25th percentile): 446.66\n",
      "Q3 (75th percentile): 1111.1525000000001\n",
      "Interquartile Range (IQR): 664.4925000000001\n"
     ]
    }
   ],
   "source": [
    " #Compute first (Q1) and third (Q3) quartiles\n",
    "q1 = np.quantile(emissions_by_country, 0.25)\n",
    "q3 = np.quantile(emissions_by_country, 0.75)\n",
    "\n",
    "# Calculate interquartile range (IQR)\n",
    "iqr = q3 - q1\n",
    "\n",
    "# Print results\n",
    "print(\"Q1 (25th percentile):\", q1)\n",
    "print(\"Q3 (75th percentile):\", q3)\n",
    "print(\"Interquartile Range (IQR):\", iqr)"
   ]
  },
  {
   "cell_type": "markdown",
   "id": "90cdac7d",
   "metadata": {},
   "source": [
    "Calculate the lower and upper cutoffs for outliers of emissions_by_country, and store these as lower and upper."
   ]
  },
  {
   "cell_type": "code",
   "execution_count": 4,
   "id": "fa0f3b6a",
   "metadata": {},
   "outputs": [
    {
     "name": "stdout",
     "output_type": "stream",
     "text": [
      "Q1 (25th percentile): 446.66\n",
      "Q3 (75th percentile): 1111.1525000000001\n",
      "IQR: 664.4925000000001\n",
      "Lower cutoff for outliers: -550.0787500000001\n",
      "Upper cutoff for outliers: 2107.89125\n"
     ]
    }
   ],
   "source": [
    "# Calculate outlier cutoffs\n",
    "lower = q1 - 1.5 * iqr\n",
    "upper = q3 + 1.5 * iqr\n",
    "\n",
    "# Print results\n",
    "print(\"Q1 (25th percentile):\", q1)\n",
    "print(\"Q3 (75th percentile):\", q3)\n",
    "print(\"IQR:\", iqr)\n",
    "print(\"Lower cutoff for outliers:\", lower)\n",
    "print(\"Upper cutoff for outliers:\", upper)"
   ]
  },
  {
   "cell_type": "markdown",
   "id": "b1c41158",
   "metadata": {},
   "source": [
    "Subset emissions_by_country to get countries with a total emission greater than the upper cutoff or a total emission less than the lower cutoff."
   ]
  },
  {
   "cell_type": "code",
   "execution_count": 5,
   "id": "25fcd153",
   "metadata": {},
   "outputs": [
    {
     "name": "stdout",
     "output_type": "stream",
     "text": [
      "Countries with outlier total CO₂ emissions:\n",
      "country\n",
      "Argentina    2172.4\n",
      "Name: co2_emission, dtype: float64\n"
     ]
    }
   ],
   "source": [
    "#  Subset countries with emissions outside the cutoff range\n",
    "outliers = emissions_by_country[(emissions_by_country < lower) | (emissions_by_country > upper)]\n",
    "\n",
    "# Display results\n",
    "print(\"Countries with outlier total CO₂ emissions:\")\n",
    "print(outliers)"
   ]
  }
 ],
 "metadata": {
  "kernelspec": {
   "display_name": "Python 3",
   "language": "python",
   "name": "python3"
  },
  "language_info": {
   "codemirror_mode": {
    "name": "ipython",
    "version": 3
   },
   "file_extension": ".py",
   "mimetype": "text/x-python",
   "name": "python",
   "nbconvert_exporter": "python",
   "pygments_lexer": "ipython3",
   "version": "3.13.9"
  }
 },
 "nbformat": 4,
 "nbformat_minor": 5
}
