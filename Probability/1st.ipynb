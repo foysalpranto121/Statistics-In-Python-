{
 "cells": [
  {
   "cell_type": "code",
   "execution_count": 1,
   "id": "48fdbaae",
   "metadata": {},
   "outputs": [
    {
     "name": "stdout",
     "output_type": "stream",
     "text": [
      "P(Head) = 0.5\n",
      "P(No Rain) = 0.4\n",
      "P(Clouds | Rain) = 1.0\n",
      "P(Disease | Test Positive) = 0.5\n",
      "Expected Value = 2.0999999999999996\n",
      "Variance = 0.49\n"
     ]
    }
   ],
   "source": [
    "# Probability Concepts for Machine Learning\n",
    "import numpy as np\n",
    "import pandas as pd\n",
    "from math import comb\n",
    "\n",
    "# Example 1: Simple Probability\n",
    "# Probability of getting a head when tossing a coin\n",
    "p_head = 1/2\n",
    "print(\"P(Head) =\", p_head)\n",
    "\n",
    "# Example 2: Complement Rule\n",
    "p_rain = 0.6\n",
    "p_no_rain = 1 - p_rain\n",
    "print(\"P(No Rain) =\", p_no_rain)\n",
    "\n",
    "# Example 3: Conditional Probability\n",
    "# Suppose: 80% clouds -> 60% rain given clouds\n",
    "p_clouds = 0.8\n",
    "p_rain_given_clouds = 0.6\n",
    "p_rain_and_clouds = p_clouds * p_rain_given_clouds\n",
    "p_rain = p_rain_and_clouds  # since no rain without clouds\n",
    "p_clouds_given_rain = p_rain_and_clouds / p_rain\n",
    "print(\"P(Clouds | Rain) =\", round(p_clouds_given_rain, 2))\n",
    "\n",
    "# Example 4: Bayes’ Theorem\n",
    "# Disease example: 1% have disease, test is 99% accurate\n",
    "p_disease = 0.01\n",
    "p_no_disease = 0.99\n",
    "p_pos_given_disease = 0.99\n",
    "p_pos_given_no_disease = 0.01\n",
    "\n",
    "# Probability of having disease given test positive\n",
    "p_pos = (p_pos_given_disease * p_disease) + (p_pos_given_no_disease * p_no_disease)\n",
    "p_disease_given_pos = (p_pos_given_disease * p_disease) / p_pos\n",
    "print(\"P(Disease | Test Positive) =\", round(p_disease_given_pos, 4))\n",
    "\n",
    "# Example 5: Expected Value\n",
    "# Random variable X = {1, 2, 3} with probabilities {0.2, 0.5, 0.3}\n",
    "x = np.array([1, 2, 3])\n",
    "p = np.array([0.2, 0.5, 0.3])\n",
    "expected_value = np.sum(x * p)\n",
    "print(\"Expected Value =\", expected_value)\n",
    "\n",
    "# Example 6: Variance\n",
    "variance = np.sum(((x - expected_value)**2) * p)\n",
    "print(\"Variance =\", variance)\n"
   ]
  }
 ],
 "metadata": {
  "kernelspec": {
   "display_name": "Python 3",
   "language": "python",
   "name": "python3"
  },
  "language_info": {
   "codemirror_mode": {
    "name": "ipython",
    "version": 3
   },
   "file_extension": ".py",
   "mimetype": "text/x-python",
   "name": "python",
   "nbconvert_exporter": "python",
   "pygments_lexer": "ipython3",
   "version": "3.13.9"
  }
 },
 "nbformat": 4,
 "nbformat_minor": 5
}
