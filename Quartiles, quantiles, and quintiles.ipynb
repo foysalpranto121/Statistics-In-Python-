{
 "cells": [
  {
   "cell_type": "markdown",
   "id": "fd9e143f",
   "metadata": {},
   "source": [
    "## Quartiles, quantiles, and quintiles\n",
    "\n"
   ]
  },
  {
   "cell_type": "markdown",
   "id": "f9e66e57",
   "metadata": {},
   "source": [
    "Quantiles are a great way of summarizing numerical data since they can be used to measure center and spread, as well as to get a sense of where a data point stands in relation to the rest of the data set. For example, you might want to give a discount to the 10% most active users on a website.\n",
    "\n",
    "In this exercise, you'll calculate quartiles, quintiles, and deciles, which split up a dataset into 4, 5, and 10 pieces, respectively.\n",
    "\n",
    "Both pandas as pd and numpy as np are loaded and food_consumption is available."
   ]
  },
  {
   "cell_type": "markdown",
   "id": "479646dd",
   "metadata": {},
   "source": [
    "Calculate the quartiles of the co2_emission column of food_consumption."
   ]
  },
  {
   "cell_type": "code",
   "execution_count": 1,
   "id": "693b0122",
   "metadata": {},
   "outputs": [
    {
     "name": "stdout",
     "output_type": "stream",
     "text": [
      "Quartiles for CO2 Emission (min, Q1, median, Q3, max):\n",
      "[   0.        5.21     16.53     62.5975 1712.    ]\n"
     ]
    }
   ],
   "source": [
    "import numpy as np\n",
    "import pandas as pd\n",
    "\n",
    "# Load dataset safely\n",
    "food_consumption = pd.read_csv(\n",
    "    'https://assets.datacamp.com/production/repositories/5786/datasets/49f6356966016c70a9f63a0474942675377bdcf2/food_consumption.csv',\n",
    "    encoding='latin1'\n",
    ")\n",
    "\n",
    "# Calculate the quartiles (including min=0% and max=100%) for co2_emission\n",
    "quartiles = np.quantile(food_consumption['co2_emission'], [0, 0.25, 0.5, 0.75, 1])\n",
    "print(\"Quartiles for CO2 Emission (min, Q1, median, Q3, max):\")\n",
    "print(quartiles)\n"
   ]
  },
  {
   "cell_type": "markdown",
   "id": "dc0b56f1",
   "metadata": {},
   "source": [
    "Calculate the six quantiles that split up the data into 5 pieces (quintiles) of the co2_emission column of food_consumption."
   ]
  },
  {
   "cell_type": "code",
   "execution_count": 2,
   "id": "741df6d5",
   "metadata": {},
   "outputs": [
    {
     "name": "stdout",
     "output_type": "stream",
     "text": [
      "Quintiles for CO2 Emission (min, 20%, 40%, 60%, 80%, max):\n",
      "[   0.       3.54    11.026   25.59    99.978 1712.   ]\n"
     ]
    }
   ],
   "source": [
    "quintiles = np.quantile(food_consumption['co2_emission'], [0, 0.2, 0.4, 0.6, 0.8, 1])\n",
    "print(\"Quintiles for CO2 Emission (min, 20%, 40%, 60%, 80%, max):\")\n",
    "print(quintiles)"
   ]
  },
  {
   "cell_type": "markdown",
   "id": "4681957f",
   "metadata": {},
   "source": [
    "Calculate the eleven quantiles of co2_emission that split up the data into ten pieces (deciles)."
   ]
  },
  {
   "cell_type": "code",
   "execution_count": 3,
   "id": "b603414c",
   "metadata": {},
   "outputs": [
    {
     "name": "stdout",
     "output_type": "stream",
     "text": [
      "Deciles for CO2 Emission (min, 10%, 20%, ..., 90%, max):\n",
      "[0.00000e+00 6.68000e-01 3.54000e+00 7.04000e+00 1.10260e+01 1.65300e+01\n",
      " 2.55900e+01 4.42710e+01 9.99780e+01 2.03629e+02 1.71200e+03]\n"
     ]
    }
   ],
   "source": [
    "deciles = np.quantile(food_consumption['co2_emission'],\n",
    "                      [0, 0.1, 0.2, 0.3, 0.4, 0.5, 0.6, 0.7, 0.8, 0.9, 1])\n",
    "\n",
    "print(\"Deciles for CO2 Emission (min, 10%, 20%, ..., 90%, max):\")\n",
    "print(deciles)"
   ]
  }
 ],
 "metadata": {
  "kernelspec": {
   "display_name": "Python 3",
   "language": "python",
   "name": "python3"
  },
  "language_info": {
   "codemirror_mode": {
    "name": "ipython",
    "version": 3
   },
   "file_extension": ".py",
   "mimetype": "text/x-python",
   "name": "python",
   "nbconvert_exporter": "python",
   "pygments_lexer": "ipython3",
   "version": "3.13.9"
  }
 },
 "nbformat": 4,
 "nbformat_minor": 5
}
